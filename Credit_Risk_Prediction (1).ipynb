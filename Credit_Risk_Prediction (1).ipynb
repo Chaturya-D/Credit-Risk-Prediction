{
  "nbformat": 4,
  "nbformat_minor": 0,
  "metadata": {
    "colab": {
      "name": "Credit Risk Prediction.ipynb",
      "provenance": [],
      "collapsed_sections": [],
      "toc_visible": true
    },
    "kernelspec": {
      "name": "python3",
      "display_name": "Python 3"
    },
    "language_info": {
      "name": "python"
    }
  },
  "cells": [
    {
      "cell_type": "markdown",
      "metadata": {
        "id": "M4aNH2S1nq8N"
      },
      "source": [
        "***1)Import libraries, upload dataset and visualize data using basic commands***"
      ]
    },
    {
      "cell_type": "code",
      "metadata": {
        "id": "c5Y-foaajIbu"
      },
      "source": [
        "import numpy as np\n",
        "import pandas as pd\n",
        "import matplotlib.pyplot as plt  \n",
        "from sklearn.model_selection import train_test_split \n",
        "from sklearn.linear_model import LinearRegression\n",
        "from sklearn import metrics\n",
        "from sklearn.preprocessing import LabelEncoder"
      ],
      "execution_count": null,
      "outputs": []
    },
    {
      "cell_type": "code",
      "metadata": {
        "id": "W4HfEBlxmeC6"
      },
      "source": [
        "dataset = pd.read_csv('/content/Training Data.csv')\n",
        "#testset = pd.read_csv('/content/Test Data.csv')\n",
        "print(dataset)\n",
        "ds=pd.DataFrame()"
      ],
      "execution_count": null,
      "outputs": []
    },
    {
      "cell_type": "code",
      "metadata": {
        "id": "5OFbjdODmzyS"
      },
      "source": [
        "dataset.shape"
      ],
      "execution_count": null,
      "outputs": []
    },
    {
      "cell_type": "code",
      "metadata": {
        "id": "S7mU_TtYnA4f"
      },
      "source": [
        "k=pd.DataFrame(dataset)\n",
        "k.dtypes"
      ],
      "execution_count": null,
      "outputs": []
    },
    {
      "cell_type": "code",
      "metadata": {
        "id": "U0U3g2vUnMWv"
      },
      "source": [
        "dataset.isnull().any()"
      ],
      "execution_count": null,
      "outputs": []
    },
    {
      "cell_type": "code",
      "metadata": {
        "id": "Q5G3ZxsPnWiq"
      },
      "source": [
        "dataset.info()"
      ],
      "execution_count": null,
      "outputs": []
    },
    {
      "cell_type": "markdown",
      "metadata": {
        "id": "5jzKVF6On3ft"
      },
      "source": [
        "***2)ENCODING***"
      ]
    },
    {
      "cell_type": "code",
      "metadata": {
        "id": "rqYMvHWlsLRF"
      },
      "source": [
        "ds=dataset.copy()\n",
        "ds=ds.drop([\"car_ownership\",\"married\",\"house_ownership\",\"current_job_years\",\"current_house_years\"],axis=1)\n",
        "ds\n",
        "#print(dataset)"
      ],
      "execution_count": null,
      "outputs": []
    },
    {
      "cell_type": "code",
      "metadata": {
        "id": "zPgiQ7qcn4_P"
      },
      "source": [
        "'''from sklearn.preprocessing import LabelEncoder\n",
        "#single=1,married=0\n",
        "le=LabelEncoder()\n",
        "ds[\"married\"]=le.fit_transform(dataset[\"married\"])\n",
        "print(ds[\"married\"])'''"
      ],
      "execution_count": null,
      "outputs": []
    },
    {
      "cell_type": "code",
      "metadata": {
        "id": "V8k7nRhUuCF7"
      },
      "source": [
        "'''from sklearn.preprocessing import LabelEncoder\n",
        "#norent_noown=0 owned=1 rented=2\n",
        "le_1=LabelEncoder()\n",
        "ds[\"house_ownership\"]=le_1.fit_transform(dataset[\"house_ownership\"])\n",
        "print(ds[\"house_ownership\"])\n",
        "print(le_1.classes_)'''"
      ],
      "execution_count": null,
      "outputs": []
    },
    {
      "cell_type": "code",
      "metadata": {
        "id": "CJzFiTCkvO_w"
      },
      "source": [
        "\n",
        "#no=0 yes=1 \n",
        "'''le_2=LabelEncoder()\n",
        "ds[\"car_ownership\"]=le_2.fit_transform(dataset[\"car_ownership\"])\n",
        "print(ds[\"car_ownership\"])\n",
        "print(le_2.classes_)'''"
      ],
      "execution_count": null,
      "outputs": []
    },
    {
      "cell_type": "code",
      "metadata": {
        "id": "9R-UE6iavenE"
      },
      "source": [
        "le_3=LabelEncoder()\n",
        "ds[\"profession\"]=le_3.fit_transform(dataset[\"profession\"])\n",
        "print(ds[\"profession\"])\n",
        "print(le_3.classes_)\n",
        "print(len(le_3.classes_))"
      ],
      "execution_count": null,
      "outputs": []
    },
    {
      "cell_type": "code",
      "metadata": {
        "id": "u5BE2-WVzKSt"
      },
      "source": [
        "le_4=LabelEncoder()\n",
        "ds[\"city\"]=le_4.fit_transform(dataset[\"city\"])\n",
        "print(ds[\"city\"])\n",
        "print(le_4.classes_)\n",
        "print(len(le_4.classes_))"
      ],
      "execution_count": null,
      "outputs": []
    },
    {
      "cell_type": "code",
      "metadata": {
        "id": "UjX6wGPvzUYE"
      },
      "source": [
        "le_5=LabelEncoder()\n",
        "ds[\"state\"]=le_5.fit_transform(dataset[\"state\"])\n",
        "print(ds[\"state\"])\n",
        "print(le_5.classes_)\n",
        "print(len(le_5.classes_))"
      ],
      "execution_count": null,
      "outputs": []
    },
    {
      "cell_type": "code",
      "metadata": {
        "id": "3cvZtGE51Dcm"
      },
      "source": [
        "ds\n"
      ],
      "execution_count": null,
      "outputs": []
    },
    {
      "cell_type": "markdown",
      "metadata": {
        "id": "5SGPXTK0HI0z"
      },
      "source": [
        "***3)Visualization and analysis***"
      ]
    },
    {
      "cell_type": "code",
      "metadata": {
        "id": "WAFHBf9eHHwt"
      },
      "source": [
        "count_e=[]\n",
        "for i in ds[\"experience\"].unique():\n",
        "  temp=ds[(ds[\"experience\"]==i) & (ds[\"risk_flag\"]==1)]\n",
        "  count_e.append(len(temp)/len(ds[ds[\"experience\"]==i]))\n",
        "\n",
        "plt.scatter((ds[\"experience\"].unique()),count_e)\n",
        "plt.show()"
      ],
      "execution_count": null,
      "outputs": []
    },
    {
      "cell_type": "code",
      "metadata": {
        "id": "5g09vATcX9a5"
      },
      "source": [
        "count_a=[]\n",
        "for i in ds[\"age\"].unique():\n",
        "  temp=ds[(ds[\"age\"]==i) & (ds[\"risk_flag\"]==1)]\n",
        "  count_a.append(len(temp)/len(ds[ds[\"age\"]==i]))\n",
        "\n",
        "plt.scatter((ds[\"age\"].unique()),count_a)\n",
        "plt.show()"
      ],
      "execution_count": null,
      "outputs": []
    },
    {
      "cell_type": "code",
      "metadata": {
        "id": "scUfpcQ_XZ5B"
      },
      "source": [
        "plt.scatter(ds[[\"income\"]],ds[[\"risk_flag\"]])\n",
        "plt.show()"
      ],
      "execution_count": null,
      "outputs": []
    },
    {
      "cell_type": "code",
      "metadata": {
        "id": "Cbmx-dNdYLCi"
      },
      "source": [
        "count=[]\n",
        "for i in ds[\"married\"].unique():\n",
        "  temp=ds[(ds[\"married\"]==i) & (ds[\"risk_flag\"]==1)]\n",
        "  count.append(len(temp)/len(ds[ds[\"married\"]==i]))\n",
        "\n",
        "plt.scatter(le.inverse_transform(ds[\"married\"].unique()),count)\n",
        "plt.show()"
      ],
      "execution_count": null,
      "outputs": []
    },
    {
      "cell_type": "markdown",
      "metadata": {
        "id": "11Isl8i3D73n"
      },
      "source": [
        "***4)Normalization***"
      ]
    },
    {
      "cell_type": "code",
      "metadata": {
        "id": "oeZD7XebzqJz"
      },
      "source": [
        "from sklearn.preprocessing import MinMaxScaler\n",
        "scaler = MinMaxScaler()\n",
        "ds_normalize=pd.DataFrame(scaler.fit_transform(ds.iloc[:,1:-1]))\n",
        "ds_normalize"
      ],
      "execution_count": null,
      "outputs": []
    },
    {
      "cell_type": "code",
      "metadata": {
        "id": "wVbXeOs019Gr"
      },
      "source": [
        "from sklearn.model_selection import train_test_split\n",
        "x_train,x_test, y_train, y_test = train_test_split(ds_normalize.iloc[:,:].values,ds.iloc[:,-1:].values, test_size=0.02, random_state=42)\n",
        "print(x_train.shape)\n",
        "print(x_test.shape)\n",
        "print(y_train.shape)\n",
        "print(y_test.shape)"
      ],
      "execution_count": null,
      "outputs": []
    },
    {
      "cell_type": "markdown",
      "metadata": {
        "id": "ZaHKBHq9EB_a"
      },
      "source": [
        "***5)Training***"
      ]
    },
    {
      "cell_type": "code",
      "metadata": {
        "id": "-DwfULF7LpYd"
      },
      "source": [
        "from sklearn.ensemble import RandomForestRegressor\n",
        "n_estimators = 500\n",
        "max_depth = 25\n",
        "min_samples_split=2\n",
        "min_samples_leaf=4\n",
        "random_forest = RandomForestRegressor(random_state = 42,n_estimators = n_estimators, max_depth = max_depth, min_samples_split=min_samples_split)\n",
        "random_forest.fit(x_train,y_train.ravel())"
      ],
      "execution_count": null,
      "outputs": []
    },
    {
      "cell_type": "code",
      "metadata": {
        "id": "-RBpM7GbZyEv"
      },
      "source": [
        "# Decision Tree Regressor\n",
        "from sklearn.tree import DecisionTreeRegressor\n",
        "#n_estimators = 100\n",
        "max_depth = 25\n",
        "min_samples_split=2\n",
        "min_samples_leaf=4\n",
        "decision_tree = DecisionTreeRegressor(max_depth = max_depth, min_samples_split=min_samples_split)\n",
        "decision_tree.fit(x_train, y_train)"
      ],
      "execution_count": null,
      "outputs": []
    },
    {
      "cell_type": "markdown",
      "metadata": {
        "id": "XuHosdOyxgRf"
      },
      "source": [
        "***6)Prediction***"
      ]
    },
    {
      "cell_type": "code",
      "metadata": {
        "id": "or49DAUrLygK"
      },
      "source": [
        "y_pred_rf= random_forest.predict(x_test)\n",
        "y_pred_rf\n",
        "pd.DataFrame(y_pred_rf).to_csv(\"refer_rf.csv\")"
      ],
      "execution_count": null,
      "outputs": []
    },
    {
      "cell_type": "code",
      "metadata": {
        "id": "TkEYZiS1Zzzj"
      },
      "source": [
        "y_pred_dt= decision_tree.predict(x_test)\n",
        "y_pred_dt\n",
        "pd.DataFrame(y_pred_dt).to_csv(\"refer_dt.csv\")"
      ],
      "execution_count": null,
      "outputs": []
    },
    {
      "cell_type": "code",
      "metadata": {
        "id": "sn0y6yMSfjAj"
      },
      "source": [
        "def classif(n):\n",
        "  if(n>0.05):\n",
        "    return 1\n",
        "  return 0\n",
        "\n",
        "output=list(map(classif,y_pred_rf))\n",
        "output_dt=list(map(classif,y_pred_dt))\n",
        "print(output,end=\" \")"
      ],
      "execution_count": null,
      "outputs": []
    },
    {
      "cell_type": "code",
      "metadata": {
        "id": "6Ta5O9ESsShk"
      },
      "source": [
        "from sklearn.metrics import confusion_matrix\n",
        "confusion_matrix(y_test, output)"
      ],
      "execution_count": null,
      "outputs": []
    },
    {
      "cell_type": "code",
      "metadata": {
        "id": "QjoaOS0ccJod"
      },
      "source": [
        "print(output_dt,end=\" \")"
      ],
      "execution_count": null,
      "outputs": []
    },
    {
      "cell_type": "markdown",
      "metadata": {
        "id": "cgW8yGDsxHrf"
      },
      "source": [
        "### ***ROC_AUC_SCORE***"
      ]
    },
    {
      "cell_type": "code",
      "metadata": {
        "id": "WKeSPbOA7W1c"
      },
      "source": [
        "from sklearn.metrics import roc_auc_score\n",
        "auc = roc_auc_score(y_test, output)\n",
        "print('ROC AUC_RF: %f' % auc)\n"
      ],
      "execution_count": null,
      "outputs": []
    },
    {
      "cell_type": "code",
      "metadata": {
        "id": "eSQhf20EZ-GM"
      },
      "source": [
        "from sklearn.metrics import roc_auc_score\n",
        "auc = roc_auc_score(y_test, output_dt)\n",
        "print('ROC AUC: %f' % auc)"
      ],
      "execution_count": null,
      "outputs": []
    },
    {
      "cell_type": "markdown",
      "metadata": {
        "id": "HhZHTFYRxVq8"
      },
      "source": [
        "***TESTING***"
      ]
    },
    {
      "cell_type": "code",
      "metadata": {
        "id": "Ls9g9UIfdDf5"
      },
      "source": [
        "testset = pd.read_csv('/content/Test Data.csv')\n",
        "testset"
      ],
      "execution_count": null,
      "outputs": []
    },
    {
      "cell_type": "code",
      "metadata": {
        "id": "B8ePPIz1OLQ1"
      },
      "source": [
        "testset=testset.drop([\"car_ownership\",\"married\",\"house_ownership\",\"current_job_years\",\"current_house_years\"], axis=1)\n",
        "testset"
      ],
      "execution_count": null,
      "outputs": []
    },
    {
      "cell_type": "code",
      "metadata": {
        "id": "2lMp1IxHmxmx"
      },
      "source": [
        "def conv(string):\n",
        "  return string.replace(' ', '_')\n",
        "#testset[\"married\"]=le.transform(testset[\"married\"])\n",
        "#testset[\"house_ownership\"]=le_1.transform(testset[\"house_ownership\"])\n",
        "#testset[\"car_ownership\"]=le_2.transform(testset[\"car_ownership\"])\n",
        "testset[\"profession\"]=list(map(conv,testset[\"profession\"]))\n",
        "testset[\"profession\"]=le_3.transform(testset[\"profession\"])\n",
        "testset[\"city\"]=list(map(conv,testset[\"city\"]))\n",
        "testset[\"city\"]=le_4.transform(testset[\"city\"])\n",
        "testset[\"state\"]=list(map(conv,testset[\"state\"]))\n",
        "testset[\"state\"]=le_5.transform(testset[\"state\"])"
      ],
      "execution_count": null,
      "outputs": []
    },
    {
      "cell_type": "code",
      "metadata": {
        "id": "Npf6QaVpop0s"
      },
      "source": [
        "testset=testset.iloc[:,1:]"
      ],
      "execution_count": null,
      "outputs": []
    },
    {
      "cell_type": "code",
      "metadata": {
        "id": "VrK20u3CoYLE"
      },
      "source": [
        "testset=pd.DataFrame(scaler.transform(testset))"
      ],
      "execution_count": null,
      "outputs": []
    },
    {
      "cell_type": "code",
      "metadata": {
        "id": "O7P_wVxdrgb5"
      },
      "source": [
        "testset"
      ],
      "execution_count": null,
      "outputs": []
    },
    {
      "cell_type": "code",
      "metadata": {
        "id": "wK_rJx6PpcUC"
      },
      "source": [
        "y_pred_final= random_forest.predict(testset)\n",
        "y_pred_final=list(map(classif,y_pred_final))\n",
        "print(y_pred_final,end=\" \")"
      ],
      "execution_count": null,
      "outputs": []
    },
    {
      "cell_type": "markdown",
      "metadata": {
        "id": "rHEMaG22es3_"
      },
      "source": [
        "Selecting Random forest because of the roc_auc score\n"
      ]
    },
    {
      "cell_type": "code",
      "metadata": {
        "id": "TAGSqbEdkD2P"
      },
      "source": [
        "pd.DataFrame(y_pred_final).to_csv(\"Predictions_DataSet.csv\")"
      ],
      "execution_count": null,
      "outputs": []
    }
  ]
}